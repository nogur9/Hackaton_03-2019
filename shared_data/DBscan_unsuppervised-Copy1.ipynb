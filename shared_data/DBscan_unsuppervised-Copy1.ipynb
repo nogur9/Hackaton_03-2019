{
 "cells": [
  {
   "cell_type": "code",
   "execution_count": 219,
   "metadata": {},
   "outputs": [],
   "source": [
    "\n",
    "import pandas as pd\n",
    "import numpy as np\n",
    "import math\n",
    "\n",
    "from sklearn.cluster import DBSCAN\n",
    "\n",
    "min_timestamp_cutoff = 30\n",
    "\n",
    "\n",
    "pd.options.display.max_columns =200\n",
    "pd.options.display.max_rows =500\n",
    "pd.options.display.max_colwidth =500"
   ]
  },
  {
   "cell_type": "code",
   "execution_count": 220,
   "metadata": {},
   "outputs": [],
   "source": [
    "train = pd.read_csv('train.csv', encoding='windows-1255')\n",
    "train.drop_duplicates(subset=['trip_index']).route_id.value_counts()\n",
    "unique_samples_of_trip_index = train.groupby('trip_index').time_recorded.count()"
   ]
  },
  {
   "cell_type": "code",
   "execution_count": 221,
   "metadata": {},
   "outputs": [],
   "source": [
    "remove_trip_index = unique_samples_of_trip_index.index[unique_samples_of_trip_index.values <min_timestamp_cutoff]"
   ]
  },
  {
   "cell_type": "code",
   "execution_count": 222,
   "metadata": {},
   "outputs": [],
   "source": [
    "remove_trip_index = list(remove_trip_index)"
   ]
  },
  {
   "cell_type": "code",
   "execution_count": 223,
   "metadata": {},
   "outputs": [],
   "source": [
    "train = train[train.trip_index.apply(lambda x: x not in remove_trip_index)]"
   ]
  },
  {
   "cell_type": "code",
   "execution_count": 224,
   "metadata": {},
   "outputs": [],
   "source": [
    "dots = train[['lon', 'lat']]\n",
    "labels = train['route_id']\n",
    "trip_index = train['trip_index']"
   ]
  },
  {
   "cell_type": "code",
   "execution_count": 225,
   "metadata": {},
   "outputs": [
    {
     "data": {
      "text/plain": [
       "array([20920, 20916,  5189,  5214, 20912], dtype=int64)"
      ]
     },
     "execution_count": 225,
     "metadata": {},
     "output_type": "execute_result"
    }
   ],
   "source": [
    "labels.unique()"
   ]
  },
  {
   "cell_type": "code",
   "execution_count": 226,
   "metadata": {},
   "outputs": [
    {
     "data": {
      "text/plain": [
       "17709"
      ]
     },
     "execution_count": 226,
     "metadata": {},
     "output_type": "execute_result"
    }
   ],
   "source": [
    "len(dots[(labels==20916)])"
   ]
  },
  {
   "cell_type": "code",
   "execution_count": null,
   "metadata": {},
   "outputs": [],
   "source": []
  },
  {
   "cell_type": "code",
   "execution_count": 227,
   "metadata": {},
   "outputs": [
    {
     "name": "stdout",
     "output_type": "stream",
     "text": [
      "min trip 0 len X 6586\n",
      "unique g's 94\n",
      "unique 0\n",
      "Series([], Name: trip_index, dtype: int64)\n",
      "num clusters =  1 n_noise =  0\n",
      "min trip 1100 len X 6203\n",
      "unique g's 92\n",
      "unique 0\n",
      "Series([], Name: trip_index, dtype: int64)\n",
      "num clusters =  1 n_noise =  0\n",
      "min trip 2200 len X 6479\n",
      "unique g's 92\n",
      "unique 0\n",
      "Series([], Name: trip_index, dtype: int64)\n",
      "num clusters =  1 n_noise =  0\n",
      "min trip 3300 len X 6418\n",
      "unique g's 94\n",
      "unique 0\n",
      "Series([], Name: trip_index, dtype: int64)\n",
      "num clusters =  1 n_noise =  0\n",
      "min trip 4400 len X 329\n",
      "unique g's 5\n",
      "unique 0\n",
      "Series([], Name: trip_index, dtype: int64)\n",
      "num clusters =  5 n_noise =  0\n"
     ]
    }
   ],
   "source": [
    "step = 1100\n",
    "trip_num = 20920\n",
    "for i in range(0, 27000, step):\n",
    "    min_trip= i\n",
    "    max_trip=i+step\n",
    "    trip_index = train['trip_index']\n",
    "    labels = train['route_id']\n",
    "\n",
    "    X = dots[(labels==trip_num) & (min_trip<trip_index)&(trip_index<max_trip)]\n",
    "    g = trip_index[(labels==trip_num) & (min_trip<trip_index)&(trip_index<max_trip)]\n",
    "    if len(X):\n",
    "        db = DBSCAN(eps=0.0001, min_samples=20, algorithm='ball_tree', metric='haversine')\n",
    "        y = db.fit_predict(np.radians(X))\n",
    "        labels = db.labels_\n",
    "        n_clusters_ = len(set(labels)) - (1 if -1 in labels else 0)\n",
    "        n_noise_ = list(labels).count(-1)\n",
    "        print(\"min trip\",min_trip, \"len X\", len(X))\n",
    "        print(\"unique g's\", len(g.unique()))\n",
    "        print (\"unique\", len(g.iloc[np.where(y==-1)].unique()))\n",
    "        print(g.iloc[np.where(y==-1)])\n",
    "        print(\"num clusters = \", n_clusters_, \"n_noise = \", n_noise_)"
   ]
  },
  {
   "cell_type": "code",
   "execution_count": 228,
   "metadata": {},
   "outputs": [
    {
     "name": "stdout",
     "output_type": "stream",
     "text": [
      "min trip 0 len X 17709\n",
      "unique g's 235\n",
      "unique 2\n",
      "58796    2094\n",
      "58797    2094\n",
      "77278    2749\n",
      "Name: trip_index, dtype: int64\n",
      "num clusters =  1 n_noise =  3\n"
     ]
    }
   ],
   "source": [
    "step = 50000\n",
    "trip_num = 20916\n",
    "for i in range(0, 27000, step):\n",
    "    min_trip= i\n",
    "    max_trip=i+step\n",
    "    trip_index = train['trip_index']\n",
    "    labels = train['route_id']\n",
    "\n",
    "    X = dots[(labels==trip_num) & (min_trip<trip_index)&(trip_index<max_trip)]\n",
    "    g = trip_index[(labels==trip_num) & (min_trip<trip_index)&(trip_index<max_trip)]\n",
    "    if len(X):\n",
    "        db = DBSCAN(eps=0.0001, min_samples=50, algorithm='ball_tree', metric='haversine')\n",
    "        y = db.fit_predict(np.radians(X))\n",
    "        labels = db.labels_\n",
    "        n_clusters_ = len(set(labels)) - (1 if -1 in labels else 0)\n",
    "        n_noise_ = list(labels).count(-1)\n",
    "        print(\"min trip\",min_trip, \"len X\", len(X))\n",
    "        print(\"unique g's\", len(g.unique()))\n",
    "        print (\"unique\", len(g.iloc[np.where(y==-1)].unique()))\n",
    "        print(g.iloc[np.where(y==-1)])\n",
    "        print(\"num clusters = \", n_clusters_, \"n_noise = \", n_noise_)"
   ]
  },
  {
   "cell_type": "code",
   "execution_count": 229,
   "metadata": {},
   "outputs": [
    {
     "name": "stdout",
     "output_type": "stream",
     "text": [
      "min trip 0 len X 45565\n",
      "unique g's 833\n",
      "unique 5\n",
      "28865    1037\n",
      "28866    1037\n",
      "28867    1037\n",
      "28868    1037\n",
      "28869    1037\n",
      "28870    1037\n",
      "35579    1275\n",
      "54063    1937\n",
      "58307    2083\n",
      "82615    2942\n",
      "Name: trip_index, dtype: int64\n",
      "num clusters =  1 n_noise =  10\n",
      "min trip 3000 len X 22827\n",
      "unique g's 418\n",
      "unique 20\n",
      "92142     3285\n",
      "93100     3322\n",
      "94589     3363\n",
      "94844     3370\n",
      "95438     3396\n",
      "95456     3396\n",
      "95457     3396\n",
      "95458     3396\n",
      "97670     3488\n",
      "101334    3616\n",
      "109350    3897\n",
      "109651    3902\n",
      "111864    3970\n",
      "113068    4017\n",
      "114769    4074\n",
      "115974    4117\n",
      "116030    4118\n",
      "116074    4120\n",
      "116450    4127\n",
      "120331    4260\n",
      "123708    4401\n",
      "123830    4406\n",
      "123870    4406\n",
      "125057    4453\n",
      "Name: trip_index, dtype: int64\n",
      "num clusters =  4 n_noise =  24\n"
     ]
    }
   ],
   "source": [
    "step = 3000\n",
    "trip_num = 5189\n",
    "for i in range(0, 27000, step):\n",
    "    min_trip= i\n",
    "    max_trip=i+step\n",
    "    trip_index = train['trip_index']\n",
    "    labels = train['route_id']\n",
    "\n",
    "    X = dots[(labels==trip_num) & (min_trip<trip_index)&(trip_index<max_trip)]\n",
    "    g = trip_index[(labels==trip_num) & (min_trip<trip_index)&(trip_index<max_trip)]\n",
    "    if len(X):\n",
    "        db = DBSCAN(eps=0.0001, min_samples=1000, algorithm='ball_tree', metric='haversine')\n",
    "        y = db.fit_predict(np.radians(X))\n",
    "        labels = db.labels_\n",
    "        n_clusters_ = len(set(labels)) - (1 if -1 in labels else 0)\n",
    "        n_noise_ = list(labels).count(-1)\n",
    "        print(\"min trip\",min_trip, \"len X\", len(X))\n",
    "        print(\"unique g's\", len(g.unique()))\n",
    "        print (\"unique\", len(g.iloc[np.where(y==-1)].unique()))\n",
    "        print(g.iloc[np.where(y==-1)])\n",
    "        print(\"num clusters = \", n_clusters_, \"n_noise = \", n_noise_)"
   ]
  },
  {
   "cell_type": "code",
   "execution_count": 230,
   "metadata": {},
   "outputs": [
    {
     "name": "stdout",
     "output_type": "stream",
     "text": [
      "min trip 0 len X 1264\n",
      "unique g's 22\n",
      "unique 0\n",
      "Series([], Name: trip_index, dtype: int64)\n",
      "num clusters =  1 n_noise =  0\n",
      "min trip 2000 len X 1426\n",
      "unique g's 25\n",
      "unique 0\n",
      "Series([], Name: trip_index, dtype: int64)\n",
      "num clusters =  1 n_noise =  0\n",
      "min trip 4000 len X 404\n",
      "unique g's 7\n",
      "unique 0\n",
      "Series([], Name: trip_index, dtype: int64)\n",
      "num clusters =  1 n_noise =  0\n"
     ]
    }
   ],
   "source": [
    "step = 2000\n",
    "trip_num = 20912\n",
    "for i in range(0, 27000, step):\n",
    "    min_trip= i\n",
    "    max_trip=i+step\n",
    "    trip_index = train['trip_index']\n",
    "    labels = train['route_id']\n",
    "\n",
    "    X = dots[(labels==trip_num) & (min_trip<trip_index)&(trip_index<max_trip)]\n",
    "    g = trip_index[(labels==trip_num) & (min_trip<trip_index)&(trip_index<max_trip)]\n",
    "    if len(X):\n",
    "        db = DBSCAN(eps=0.0005, min_samples=100, algorithm='ball_tree', metric='haversine')\n",
    "        y = db.fit_predict(np.radians(X))\n",
    "        labels = db.labels_\n",
    "        n_clusters_ = len(set(labels)) - (1 if -1 in labels else 0)\n",
    "        n_noise_ = list(labels).count(-1)\n",
    "        print(\"min trip\",min_trip, \"len X\", len(X))\n",
    "        print(\"unique g's\", len(g.unique()))\n",
    "        print (\"unique\", len(g.iloc[np.where(y==-1)].unique()))\n",
    "        print(g.iloc[np.where(y==-1)])\n",
    "        print(\"num clusters = \", n_clusters_, \"n_noise = \", n_noise_)"
   ]
  },
  {
   "cell_type": "code",
   "execution_count": 238,
   "metadata": {},
   "outputs": [
    {
     "name": "stdout",
     "output_type": "stream",
     "text": [
      "min trip 0 len X 10987\n",
      "unique g's 164\n",
      "unique 1\n",
      "29107    1045\n",
      "Name: trip_index, dtype: int64\n",
      "num clusters =  1 n_noise =  1\n"
     ]
    }
   ],
   "source": [
    "step = 10000\n",
    "trip_num = 5214\n",
    "for i in range(0, 27000, step):\n",
    "    min_trip= i\n",
    "    max_trip=i+step\n",
    "    trip_index = train['trip_index']\n",
    "    labels = train['route_id']\n",
    "\n",
    "    X = dots[(labels==trip_num) & (min_trip<trip_index)&(trip_index<max_trip)]\n",
    "    g = trip_index[(labels==trip_num) & (min_trip<trip_index)&(trip_index<max_trip)]\n",
    "    if len(X):\n",
    "        db = DBSCAN(eps=0.0001, min_samples=10, algorithm='ball_tree', metric='haversine')\n",
    "        y = db.fit_predict(np.radians(X))\n",
    "        labels = db.labels_\n",
    "        n_clusters_ = len(set(labels)) - (1 if -1 in labels else 0)\n",
    "        n_noise_ = list(labels).count(-1)\n",
    "        print(\"min trip\",min_trip, \"len X\", len(X))\n",
    "        print(\"unique g's\", len(g.unique()))\n",
    "        print (\"unique\", len(g.iloc[np.where(y==-1)].unique()))\n",
    "        print(g.iloc[np.where(y==-1)])\n",
    "        print(\"num clusters = \", n_clusters_, \"n_noise = \", n_noise_)"
   ]
  },
  {
   "cell_type": "code",
   "execution_count": null,
   "metadata": {},
   "outputs": [],
   "source": []
  },
  {
   "cell_type": "code",
   "execution_count": null,
   "metadata": {},
   "outputs": [],
   "source": []
  }
 ],
 "metadata": {
  "kernelspec": {
   "display_name": "Python 3",
   "language": "python",
   "name": "python3"
  },
  "language_info": {
   "codemirror_mode": {
    "name": "ipython",
    "version": 3
   },
   "file_extension": ".py",
   "mimetype": "text/x-python",
   "name": "python",
   "nbconvert_exporter": "python",
   "pygments_lexer": "ipython3",
   "version": "3.7.1"
  }
 },
 "nbformat": 4,
 "nbformat_minor": 2
}
