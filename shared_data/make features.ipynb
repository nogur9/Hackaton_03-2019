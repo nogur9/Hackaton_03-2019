{
 "cells": [
  {
   "cell_type": "code",
   "execution_count": 27,
   "metadata": {},
   "outputs": [],
   "source": [
    "\n",
    "import pandas as pd\n",
    "import numpy as np\n",
    "import math\n",
    "from sklearn.preprocessing import PolynomialFeatures\n",
    "from sklearn.linear_model import LogisticRegression\n",
    "\n",
    "from sklearn.preprocessing import KBinsDiscretizer\n",
    "\n",
    "min_timestamp_cutoff = 30\n",
    "\n",
    "pd.options.display.max_columns =200\n",
    "pd.options.display.max_rows =500\n",
    "pd.options.display.max_colwidth =500"
   ]
  },
  {
   "cell_type": "code",
   "execution_count": 28,
   "metadata": {},
   "outputs": [],
   "source": [
    "train = pd.read_csv('train.csv', encoding='windows-1255')\n",
    "train.drop_duplicates(subset=['trip_index']).route_id.value_counts()\n",
    "unique_samples_of_trip_index = train.groupby('trip_index').time_recorded.count()"
   ]
  },
  {
   "cell_type": "code",
   "execution_count": 29,
   "metadata": {},
   "outputs": [],
   "source": [
    "remove_trip_index = unique_samples_of_trip_index.index[unique_samples_of_trip_index.values <min_timestamp_cutoff]"
   ]
  },
  {
   "cell_type": "code",
   "execution_count": 30,
   "metadata": {},
   "outputs": [],
   "source": [
    "remove_trip_index = list(remove_trip_index)"
   ]
  },
  {
   "cell_type": "code",
   "execution_count": 31,
   "metadata": {},
   "outputs": [],
   "source": [
    "train = train[train.trip_index.apply(lambda x: x not in remove_trip_index)]"
   ]
  },
  {
   "cell_type": "code",
   "execution_count": 32,
   "metadata": {},
   "outputs": [],
   "source": [
    "dots = train[['lon', 'lat']]\n",
    "samples = train['trip_index']\n",
    "labels = train['route_id']"
   ]
  },
  {
   "cell_type": "code",
   "execution_count": 39,
   "metadata": {},
   "outputs": [],
   "source": [
    "features = dots[samples == 3]"
   ]
  },
  {
   "cell_type": "code",
   "execution_count": 40,
   "metadata": {},
   "outputs": [],
   "source": [
    "est = KBinsDiscretizer(n_bins=30, encode='ordinal', strategy='uniform')"
   ]
  },
  {
   "cell_type": "code",
   "execution_count": 43,
   "metadata": {},
   "outputs": [
    {
     "data": {
      "text/plain": [
       "array([[ 0.],\n",
       "       [ 0.],\n",
       "       [ 1.],\n",
       "       [ 1.],\n",
       "       [ 2.],\n",
       "       [ 3.],\n",
       "       [ 3.],\n",
       "       [ 4.],\n",
       "       [ 4.],\n",
       "       [ 5.],\n",
       "       [ 6.],\n",
       "       [ 6.],\n",
       "       [ 7.],\n",
       "       [ 7.],\n",
       "       [ 8.],\n",
       "       [ 9.],\n",
       "       [ 9.],\n",
       "       [10.],\n",
       "       [11.],\n",
       "       [11.],\n",
       "       [12.],\n",
       "       [12.],\n",
       "       [13.],\n",
       "       [14.],\n",
       "       [14.],\n",
       "       [15.],\n",
       "       [15.],\n",
       "       [16.],\n",
       "       [17.],\n",
       "       [17.],\n",
       "       [18.],\n",
       "       [18.],\n",
       "       [19.],\n",
       "       [20.],\n",
       "       [20.],\n",
       "       [21.],\n",
       "       [22.],\n",
       "       [22.],\n",
       "       [23.],\n",
       "       [23.],\n",
       "       [24.],\n",
       "       [25.],\n",
       "       [25.],\n",
       "       [26.],\n",
       "       [26.],\n",
       "       [27.],\n",
       "       [28.],\n",
       "       [28.],\n",
       "       [29.],\n",
       "       [29.]])"
      ]
     },
     "execution_count": 43,
     "metadata": {},
     "output_type": "execute_result"
    }
   ],
   "source": [
    "est.fit_transform(np.array([i for i in range(50)]).reshape(-1, 1))"
   ]
  },
  {
   "cell_type": "code",
   "execution_count": null,
   "metadata": {},
   "outputs": [],
   "source": [
    "X = []\n",
    "for i in samples:\n",
    "    features = dots[samples == i]\n",
    "    est = KBinsDiscretizer(n_bins=30, encode='ordinal', strategy='uniform')\n",
    "    Xt = est.fit_transform(np.array([i for i in range(len(features))]).reshape(-1, 1))\n",
    "   \n",
    "    X.append([features[Xt == i].mean() for i in range(30)])\n",
    "    "
   ]
  },
  {
   "cell_type": "code",
   "execution_count": null,
   "metadata": {},
   "outputs": [],
   "source": [
    "def distance_from_point(reg, point):\n",
    "    numpy.sqrt(numpy.sum((A - B)**2))\n"
   ]
  },
  {
   "attachments": {
    "image.png": {
     "image/png": "[encoded data removed]"
    }
   },
   "cell_type": "markdown",
   "metadata": {},
   "source": [
    "![image.png](attachment:image.png)"
   ]
  },
  {
   "cell_type": "code",
   "execution_count": null,
   "metadata": {},
   "outputs": [],
   "source": [
    "def distance_from_reg(reg, point, degree = 9):\n",
    "    point = PolynomialFeatures(degree).fit_transform()\n",
    "    mone = reg.coef_ * point + reg.intercept_\n",
    "    mechane = np.sqrt(reg.coef_*reg.coef_)\n",
    "    return (mone / mechane)\n",
    "    "
   ]
  },
  {
   "cell_type": "code",
   "execution_count": null,
   "metadata": {},
   "outputs": [],
   "source": [
    "X[1]"
   ]
  },
  {
   "cell_type": "code",
   "execution_count": null,
   "metadata": {},
   "outputs": [],
   "source": []
  }
 ],
 "metadata": {
  "kernelspec": {
   "display_name": "Python 3",
   "language": "python",
   "name": "python3"
  },
  "language_info": {
   "codemirror_mode": {
    "name": "ipython",
    "version": 3
   },
   "file_extension": ".py",
   "mimetype": "text/x-python",
   "name": "python",
   "nbconvert_exporter": "python",
   "pygments_lexer": "ipython3",
   "version": "3.7.1"
  }
 },
 "nbformat": 4,
 "nbformat_minor": 2
}
