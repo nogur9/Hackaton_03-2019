{
 "cells": [
  {
   "cell_type": "code",
   "execution_count": 1,
   "metadata": {},
   "outputs": [],
   "source": [
    "import pandas as pd\n",
    "import numpy as np\n",
    "import math\n",
    "\n",
    "from shapely.geometry import Point, Polygon\n",
    "import matplotlib.pyplot as plt\n",
    "import geopandas as gpd\n"
   ]
  },
  {
   "cell_type": "code",
   "execution_count": 6,
   "metadata": {},
   "outputs": [],
   "source": [
    "def find_route_id_similarity(trip, train_coordinates_gdf):\n",
    "    similarity_summary = {}\n",
    "\n",
    "    for trip_index in train_coordinates_gdf.trip_index:\n",
    "\n",
    "        trip_index_buffers = train_coordinates_gdf[train_coordinates_gdf['trip_index'] == trip_index]['buffer']\n",
    "\n",
    "        trip_index_coordinates_results = {key: trip.within(geom) for key, geom in trip_index_buffers.items()}\n",
    "\n",
    "        trip_index_coordinates_summary = {}\n",
    "        for coordinates in trip_index_coordinates_results.keys():\n",
    "            trip_index_coordinates_summary[coordinates] = np.any(trip_index_coordinates_results[coordinates])\n",
    "\n",
    "        route_id_mean = np.mean(list(trip_index_coordinates_summary.values()))\n",
    "\n",
    "        route_id_count = len(trip_index_coordinates_summary)\n",
    "\n",
    "        similarity_summary[str(trip_index) + '_mean'] = [route_id_mean]\n",
    "\n",
    "        similarity_summary[str(trip_index) + '_cnt'] = [route_id_count]\n",
    "    similarity_summary = pd.DataFrame(similarity_summary)\n",
    "    similarity_summary.to_csv('trip_{}_index_coordinates_summary.csv'.format(trip))\n",
    "    return similarity_summary\n"
   ]
  },
  {
   "cell_type": "code",
   "execution_count": 7,
   "metadata": {},
   "outputs": [],
   "source": [
    "def set_buffer(train, buffer_rad=0.01):\n",
    "    train['coordinates'] = train['coordinates'].apply(Point)\n",
    "    gdf = gpd.GeoDataFrame(train, geometry='coordinates')\n",
    "    gdf['buffer'] = gdf.buffer(buffer_rad)\n",
    "\n",
    "    return gdf\n"
   ]
  },
  {
   "cell_type": "code",
   "execution_count": null,
   "metadata": {},
   "outputs": [],
   "source": [
    "train = pd.read_csv('train.csv', encoding='windows-1255')\n",
    "train.drop_duplicates(subset=['trip_index']).route_id.value_counts()\n",
    "\n",
    "\n",
    "train['coordinates'] = list(zip(train.lat, train.lon))\n",
    "train['coordinates'] = train['coordinates'].apply(Point)\n",
    "\n",
    "train_coordinates_gdf = set_buffer(train)\n",
    "\n",
    "\n",
    "\n",
    "train_gdf = gpd.GeoDataFrame(train, geometry='coordinates')\n",
    "\n",
    "train_similarity_matrix_on_train_recods = train_gdf.groupby(['trip_index',\n",
    "                'route_id']).apply(lambda trip: find_route_id_similarity(trip, train_coordinates_gdf))\n",
    "\n"
   ]
  },
  {
   "cell_type": "code",
   "execution_count": null,
   "metadata": {},
   "outputs": [],
   "source": []
  },
  {
   "cell_type": "code",
   "execution_count": null,
   "metadata": {},
   "outputs": [],
   "source": [
    "def match_route_id(trip, route_stats_unique, min_match_prob = 0.8, floor_val = 0.05):\n",
    "    \n",
    "    match_summary = {route_id: 0 for route_id in [ 5214,  5189, 20920, 20917, 20916, 20912]}\n",
    "    \n",
    "    #for each trip\n",
    "    for trip_index in route_stats_unique.trip_index:\n",
    "\n",
    "    \n",
    "    # drop route_ids with % prob < min_match_prob\n",
    "        if trip[str(trip_index)+'_mean'] >=  min_match_prob:\n",
    "            route_id = train[train.trip_index == trip_index].route_id[0]\n",
    "            match_summary[route_id] += round(math.floor(trip[str(trip_index)+'_mean'] / floor_val) * floor_val,2)\n",
    "        \n",
    "    \n",
    "    # choose best match\n",
    "    match_summary['max route'] = max(match_summary, key=match_summary.get)\n",
    "    \n"
   ]
  },
  {
   "cell_type": "code",
   "execution_count": null,
   "metadata": {},
   "outputs": [],
   "source": []
  },
  {
   "cell_type": "code",
   "execution_count": null,
   "metadata": {},
   "outputs": [],
   "source": []
  }
 ],
 "metadata": {
  "kernelspec": {
   "display_name": "Python 3",
   "language": "python",
   "name": "python3"
  },
  "language_info": {
   "codemirror_mode": {
    "name": "ipython",
    "version": 3
   },
   "file_extension": ".py",
   "mimetype": "text/x-python",
   "name": "python",
   "nbconvert_exporter": "python",
   "pygments_lexer": "ipython3",
   "version": "3.6.8"
  }
 },
 "nbformat": 4,
 "nbformat_minor": 2
}
