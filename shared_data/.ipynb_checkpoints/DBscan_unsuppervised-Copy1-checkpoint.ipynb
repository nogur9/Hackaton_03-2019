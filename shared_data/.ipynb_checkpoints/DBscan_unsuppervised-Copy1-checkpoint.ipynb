{
 "cells": [
  {
   "cell_type": "code",
   "execution_count": 162,
   "metadata": {},
   "outputs": [],
   "source": [
    "\n",
    "import pandas as pd\n",
    "import numpy as np\n",
    "import math\n",
    "\n",
    "from sklearn.cluster import DBSCAN\n",
    "\n",
    "min_timestamp_cutoff = 30\n",
    "\n",
    "\n",
    "pd.options.display.max_columns =200\n",
    "pd.options.display.max_rows =500\n",
    "pd.options.display.max_colwidth =500"
   ]
  },
  {
   "cell_type": "code",
   "execution_count": 163,
   "metadata": {},
   "outputs": [],
   "source": [
    "train = pd.read_csv('train.csv', encoding='windows-1255')\n",
    "train.drop_duplicates(subset=['trip_index']).route_id.value_counts()\n",
    "unique_samples_of_trip_index = train.groupby('trip_index').time_recorded.count()"
   ]
  },
  {
   "cell_type": "code",
   "execution_count": 164,
   "metadata": {},
   "outputs": [],
   "source": [
    "remove_trip_index = unique_samples_of_trip_index.index[unique_samples_of_trip_index.values <min_timestamp_cutoff]"
   ]
  },
  {
   "cell_type": "code",
   "execution_count": 165,
   "metadata": {},
   "outputs": [],
   "source": [
    "remove_trip_index = list(remove_trip_index)"
   ]
  },
  {
   "cell_type": "code",
   "execution_count": 166,
   "metadata": {},
   "outputs": [],
   "source": [
    "train = train[train.trip_index.apply(lambda x: x not in remove_trip_index)]"
   ]
  },
  {
   "cell_type": "code",
   "execution_count": 167,
   "metadata": {},
   "outputs": [],
   "source": [
    "dots = train[['lon', 'lat']]\n",
    "labels = train['route_id']\n",
    "trip_index = train['trip_index']"
   ]
  },
  {
   "cell_type": "code",
   "execution_count": 168,
   "metadata": {},
   "outputs": [
    {
     "data": {
      "text/plain": [
       "array([20920, 20916,  5189,  5214, 20912], dtype=int64)"
      ]
     },
     "execution_count": 168,
     "metadata": {},
     "output_type": "execute_result"
    }
   ],
   "source": [
    "labels.unique()"
   ]
  },
  {
   "cell_type": "code",
   "execution_count": 169,
   "metadata": {},
   "outputs": [
    {
     "data": {
      "text/plain": [
       "17709"
      ]
     },
     "execution_count": 169,
     "metadata": {},
     "output_type": "execute_result"
    }
   ],
   "source": [
    "len(dots[(labels==20916)])"
   ]
  },
  {
   "cell_type": "code",
   "execution_count": null,
   "metadata": {},
   "outputs": [],
   "source": []
  },
  {
   "cell_type": "code",
   "execution_count": 187,
   "metadata": {},
   "outputs": [
    {
     "name": "stdout",
     "output_type": "stream",
     "text": [
      "min trip 0 len X 6586\n",
      "unique 0\n",
      "Series([], Name: trip_index, dtype: int64)\n",
      "num clusters =  1 n_noise =  0\n",
      "min trip 1100 len X 6203\n",
      "unique 0\n",
      "Series([], Name: trip_index, dtype: int64)\n",
      "num clusters =  1 n_noise =  0\n",
      "min trip 2200 len X 6479\n",
      "unique 0\n",
      "Series([], Name: trip_index, dtype: int64)\n",
      "num clusters =  1 n_noise =  0\n",
      "min trip 3300 len X 6418\n",
      "unique 0\n",
      "Series([], Name: trip_index, dtype: int64)\n",
      "num clusters =  1 n_noise =  0\n",
      "min trip 4400 len X 329\n",
      "unique 0\n",
      "Series([], Name: trip_index, dtype: int64)\n",
      "num clusters =  5 n_noise =  0\n"
     ]
    }
   ],
   "source": [
    "step = 1100\n",
    "trip_num = 20920\n",
    "for i in range(0, 27000, step):\n",
    "    min_trip= i\n",
    "    max_trip=i+step\n",
    "    trip_index = train['trip_index']\n",
    "    labels = train['route_id']\n",
    "\n",
    "    X = dots[(labels==trip_num) & (min_trip<trip_index)&(trip_index<max_trip)]\n",
    "    g = trip_index[(labels==trip_num) & (min_trip<trip_index)&(trip_index<max_trip)]\n",
    "    if len(X):\n",
    "        db = DBSCAN(eps=0.0001, min_samples=20, algorithm='ball_tree', metric='haversine')\n",
    "        y = db.fit_predict(np.radians(X))\n",
    "        labels = db.labels_\n",
    "        n_clusters_ = len(set(labels)) - (1 if -1 in labels else 0)\n",
    "        n_noise_ = list(labels).count(-1)\n",
    "        print(\"min trip\",min_trip, \"len X\", len(X))\n",
    "        print (\"unique\", len(g.iloc[np.where(y==-1)].unique()))\n",
    "        print(g.iloc[np.where(y==-1)])\n",
    "        print(\"num clusters = \", n_clusters_, \"n_noise = \", n_noise_)"
   ]
  },
  {
   "cell_type": "code",
   "execution_count": null,
   "metadata": {},
   "outputs": [
    {
     "name": "stdout",
     "output_type": "stream",
     "text": [
      "min trip 0 len X 3870\n",
      "unique 0\n",
      "Series([], Name: trip_index, dtype: int64)\n",
      "num clusters =  1 n_noise =  0\n",
      "min trip 1100 len X 4164\n",
      "unique 1\n",
      "58796    2094\n",
      "58797    2094\n",
      "Name: trip_index, dtype: int64\n",
      "num clusters =  1 n_noise =  2\n",
      "min trip 2200 len X 4531\n",
      "unique 1\n",
      "77278    2749\n",
      "Name: trip_index, dtype: int64\n",
      "num clusters =  1 n_noise =  1\n",
      "min trip 3300 len X 4469\n",
      "unique 0\n",
      "Series([], Name: trip_index, dtype: int64)\n",
      "num clusters =  1 n_noise =  0\n",
      "min trip 4400 len X 675\n",
      "unique 0\n",
      "Series([], Name: trip_index, dtype: int64)\n",
      "num clusters =  1 n_noise =  0\n"
     ]
    }
   ],
   "source": [
    "step = 1100\n",
    "trip_num = 20916\n",
    "for i in range(0, 27000, step):\n",
    "    min_trip= i\n",
    "    max_trip=i+step\n",
    "    trip_index = train['trip_index']\n",
    "    labels = train['route_id']\n",
    "\n",
    "    X = dots[(labels==trip_num) & (min_trip<trip_index)&(trip_index<max_trip)]\n",
    "    g = trip_index[(labels==trip_num) & (min_trip<trip_index)&(trip_index<max_trip)]\n",
    "    if len(X):\n",
    "        db = DBSCAN(eps=0.0001, min_samples=20, algorithm='ball_tree', metric='haversine')\n",
    "        y = db.fit_predict(np.radians(X))\n",
    "        labels = db.labels_\n",
    "        n_clusters_ = len(set(labels)) - (1 if -1 in labels else 0)\n",
    "        n_noise_ = list(labels).count(-1)\n",
    "        print(\"min trip\",min_trip, \"len X\", len(X))\n",
    "        print (\"unique\", len(g.iloc[np.where(y==-1)].unique()))\n",
    "        print(g.iloc[np.where(y==-1)])\n",
    "        print(\"num clusters = \", n_clusters_, \"n_noise = \", n_noise_)"
   ]
  },
  {
   "cell_type": "code",
   "execution_count": null,
   "metadata": {},
   "outputs": [
    {
     "name": "stdout",
     "output_type": "stream",
     "text": [
      "min trip 0 len X 17113\n",
      "unique 1\n",
      "28865    1037\n",
      "28866    1037\n",
      "28867    1037\n",
      "28868    1037\n",
      "28869    1037\n",
      "28870    1037\n",
      "Name: trip_index, dtype: int64\n",
      "num clusters =  1 n_noise =  6\n"
     ]
    }
   ],
   "source": [
    "step = 1100\n",
    "trip_num = 5189\n",
    "for i in range(0, 27000, step):\n",
    "    min_trip= i\n",
    "    max_trip=i+step\n",
    "    trip_index = train['trip_index']\n",
    "    labels = train['route_id']\n",
    "\n",
    "    X = dots[(labels==trip_num) & (min_trip<trip_index)&(trip_index<max_trip)]\n",
    "    g = trip_index[(labels==trip_num) & (min_trip<trip_index)&(trip_index<max_trip)]\n",
    "    if len(X):\n",
    "        db = DBSCAN(eps=0.0001, min_samples=20, algorithm='ball_tree', metric='haversine')\n",
    "        y = db.fit_predict(np.radians(X))\n",
    "        labels = db.labels_\n",
    "        n_clusters_ = len(set(labels)) - (1 if -1 in labels else 0)\n",
    "        n_noise_ = list(labels).count(-1)\n",
    "        print(\"min trip\",min_trip, \"len X\", len(X))\n",
    "        print (\"unique\", len(g.iloc[np.where(y==-1)].unique()))\n",
    "        print(g.iloc[np.where(y==-1)])\n",
    "        print(\"num clusters = \", n_clusters_, \"n_noise = \", n_noise_)"
   ]
  },
  {
   "cell_type": "code",
   "execution_count": null,
   "metadata": {},
   "outputs": [],
   "source": [
    "step = 1100\n",
    "trip_num = 20912\n",
    "for i in range(0, 27000, step):\n",
    "    min_trip= i\n",
    "    max_trip=i+step\n",
    "    trip_index = train['trip_index']\n",
    "    labels = train['route_id']\n",
    "\n",
    "    X = dots[(labels==trip_num) & (min_trip<trip_index)&(trip_index<max_trip)]\n",
    "    g = trip_index[(labels==trip_num) & (min_trip<trip_index)&(trip_index<max_trip)]\n",
    "    if len(X):\n",
    "        db = DBSCAN(eps=0.0001, min_samples=20, algorithm='ball_tree', metric='haversine')\n",
    "        y = db.fit_predict(np.radians(X))\n",
    "        labels = db.labels_\n",
    "        n_clusters_ = len(set(labels)) - (1 if -1 in labels else 0)\n",
    "        n_noise_ = list(labels).count(-1)\n",
    "        print(\"min trip\",min_trip, \"len X\", len(X))\n",
    "        print (\"unique\", len(g.iloc[np.where(y==-1)].unique()))\n",
    "        print(g.iloc[np.where(y==-1)])\n",
    "        print(\"num clusters = \", n_clusters_, \"n_noise = \", n_noise_)"
   ]
  },
  {
   "cell_type": "code",
   "execution_count": null,
   "metadata": {},
   "outputs": [],
   "source": [
    "step = 1100\n",
    "trip_num = 5214\n",
    "for i in range(0, 27000, step):\n",
    "    min_trip= i\n",
    "    max_trip=i+step\n",
    "    trip_index = train['trip_index']\n",
    "    labels = train['route_id']\n",
    "\n",
    "    X = dots[(labels==trip_num) & (min_trip<trip_index)&(trip_index<max_trip)]\n",
    "    g = trip_index[(labels==trip_num) & (min_trip<trip_index)&(trip_index<max_trip)]\n",
    "    if len(X):\n",
    "        db = DBSCAN(eps=0.0001, min_samples=100, algorithm='ball_tree', metric='haversine')\n",
    "        y = db.fit_predict(np.radians(X))\n",
    "        labels = db.labels_\n",
    "        n_clusters_ = len(set(labels)) - (1 if -1 in labels else 0)\n",
    "        n_noise_ = list(labels).count(-1)\n",
    "        print(\"min trip\",min_trip, \"len X\", len(X))\n",
    "        print (\"unique\", len(g.iloc[np.where(y==-1)].unique()))\n",
    "        print(g.iloc[np.where(y==-1)])\n",
    "        print(\"num clusters = \", n_clusters_, \"n_noise = \", n_noise_)"
   ]
  },
  {
   "cell_type": "code",
   "execution_count": null,
   "metadata": {},
   "outputs": [],
   "source": []
  },
  {
   "cell_type": "code",
   "execution_count": null,
   "metadata": {},
   "outputs": [],
   "source": []
  }
 ],
 "metadata": {
  "kernelspec": {
   "display_name": "Python 3",
   "language": "python",
   "name": "python3"
  },
  "language_info": {
   "codemirror_mode": {
    "name": "ipython",
    "version": 3
   },
   "file_extension": ".py",
   "mimetype": "text/x-python",
   "name": "python",
   "nbconvert_exporter": "python",
   "pygments_lexer": "ipython3",
   "version": "3.7.1"
  }
 },
 "nbformat": 4,
 "nbformat_minor": 2
}
